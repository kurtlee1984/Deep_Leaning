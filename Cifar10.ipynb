{
  "nbformat": 4,
  "nbformat_minor": 0,
  "metadata": {
    "colab": {
      "name": "Cifar10.ipynb",
      "provenance": [],
      "authorship_tag": "ABX9TyMIrefqSujdjLVa5v+bupZn",
      "include_colab_link": true
    },
    "kernelspec": {
      "name": "python3",
      "display_name": "Python 3"
    },
    "language_info": {
      "name": "python"
    },
    "accelerator": "GPU"
  },
  "cells": [
    {
      "cell_type": "markdown",
      "metadata": {
        "id": "view-in-github",
        "colab_type": "text"
      },
      "source": [
        "<a href=\"https://colab.research.google.com/github/kurtlee1984/Deep_Leaning/blob/main/Cifar10.ipynb\" target=\"_parent\"><img src=\"https://colab.research.google.com/assets/colab-badge.svg\" alt=\"Open In Colab\"/></a>"
      ]
    },
    {
      "cell_type": "code",
      "metadata": {
        "id": "8rOGM_IU_jAv"
      },
      "source": [
        "from tensorflow.keras.datasets.cifar10 import load_data\n",
        "(x_train, y_train), (x_test, y_test) = load_data()"
      ],
      "execution_count": 10,
      "outputs": []
    },
    {
      "cell_type": "code",
      "metadata": {
        "id": "5NHC297PCnQd"
      },
      "source": [
        "print(x_train.shape)\n",
        "print(y_train.shape)\n",
        "print(x_test.shape)\n",
        "print(y_test.shape)"
      ],
      "execution_count": null,
      "outputs": []
    },
    {
      "cell_type": "code",
      "metadata": {
        "id": "MkJ4tLQzC5qT"
      },
      "source": [
        "names = [\n",
        "    \"airplane\",\t\t\t\t\t\t\t\t\t\n",
        "    \"automobile\", \t\t\t\t\t\t\t\t\t\t\n",
        "    \"bird\", \t\t\t\t\t\t\t\t\t\t\n",
        "    \"cat\", \t\t\t\t\t\t\t\t\t\t\n",
        "    \"deer\", \t\t\t\t\t\t\t\t\t\t\n",
        "    \"dog\", \t\t\t\t\t\t\t\t\t\t\n",
        "    \"frog\", \t\t\t\t\t\t\t\t\t\t\n",
        "    \"horse\", \t\t\t\t\t\t\t\t\t\t\n",
        "    \"ship\", \t\t\t\t\t\t\t\t\t\t\n",
        "    \"truck\"\n",
        "]"
      ],
      "execution_count": 12,
      "outputs": []
    },
    {
      "cell_type": "code",
      "metadata": {
        "colab": {
          "base_uri": "https://localhost:8080/",
          "height": 302
        },
        "id": "fXy0HqvfDaWx",
        "outputId": "8cda9df3-6ce8-4c30-d487-21caa0155da9"
      },
      "source": [
        "import matplotlib.pyplot as plt\n",
        "import random\n",
        "idx = random.randint(0, 49999)\n",
        "ans = y_train[idx][0]\n",
        "print(names[ans])\n",
        "plt.imshow(x_train[idx])"
      ],
      "execution_count": 13,
      "outputs": [
        {
          "output_type": "stream",
          "text": [
            "cat\n"
          ],
          "name": "stdout"
        },
        {
          "output_type": "execute_result",
          "data": {
            "text/plain": [
              "<matplotlib.image.AxesImage at 0x7f8a900db850>"
            ]
          },
          "metadata": {
            "tags": []
          },
          "execution_count": 13
        },
        {
          "output_type": "display_data",
          "data": {
            "image/png": "[encoded data removed]",
            "text/plain": [
              "<Figure size 432x288 with 1 Axes>"
            ]
          },
          "metadata": {
            "tags": [],
            "needs_background": "light"
          }
        }
      ]
    },
    {
      "cell_type": "code",
      "metadata": {
        "id": "Vtlk-9e2cKPM"
      },
      "source": [
        "from tensorflow.keras.models import Sequential\n",
        "from tensorflow.keras.layers import Conv2D, MaxPooling2D\n",
        "from tensorflow.keras.layers import Dense, Flatten\n",
        "layers = [\n",
        "    Conv2D(64, 3, activation=\"relu\", padding=\"same\", input_shape=(32, 32, 3)),\n",
        "    Conv2D(64, 3, activation=\"relu\", padding=\"same\"),\n",
        "    MaxPooling2D(),\n",
        "    Conv2D(128, 3, activation=\"relu\", padding=\"same\"),\n",
        "    Conv2D(128, 3, activation=\"relu\", padding=\"same\"),\n",
        "    MaxPooling2D(),\n",
        "    Conv2D(256, 3, activation=\"relu\", padding=\"same\"),\n",
        "    Conv2D(256, 3, activation=\"relu\", padding=\"same\"),\n",
        "    MaxPooling2D(),\n",
        "    Flatten(),\n",
        "    Dense(128, activation=\"relu\"),\n",
        "    Dense(10, activation=\"softmax\")\n",
        "]\n",
        "model = Sequential(layers)\n",
        "model.summary() "
      ],
      "execution_count": null,
      "outputs": []
    }
  ]
}
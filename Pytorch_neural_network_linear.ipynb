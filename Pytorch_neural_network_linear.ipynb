{
  "nbformat": 4,
  "nbformat_minor": 0,
  "metadata": {
    "colab": {
      "name": "Pytorch_neural_network_linear.ipynb",
      "provenance": [],
      "authorship_tag": "ABX9TyN98Ewo62zmRdMuQwlgY0sB",
      "include_colab_link": true
    },
    "kernelspec": {
      "name": "python3",
      "display_name": "Python 3"
    },
    "language_info": {
      "name": "python"
    }
  },
  "cells": [
    {
      "cell_type": "markdown",
      "metadata": {
        "id": "view-in-github",
        "colab_type": "text"
      },
      "source": [
        "<a href=\"https://colab.research.google.com/github/kurtlee1984/Deep_Leaning/blob/main/Pytorch_neural_network_linear.ipynb\" target=\"_parent\"><img src=\"https://colab.research.google.com/assets/colab-badge.svg\" alt=\"Open In Colab\"/></a>"
      ]
    },
    {
      "cell_type": "markdown",
      "metadata": {
        "id": "FVWC4eVRMd18"
      },
      "source": [
        "# **Import the toolkit**"
      ]
    },
    {
      "cell_type": "code",
      "metadata": {
        "id": "1L6e-TEjeFq4"
      },
      "source": [
        "# import toolkit\n",
        "import torch\n",
        "import torch.nn as nn\n",
        "import matplotlib.pyplot as plt\n",
        "from IPython.display import display, clear_output"
      ],
      "execution_count": 1,
      "outputs": []
    },
    {
      "cell_type": "code",
      "metadata": {
        "colab": {
          "base_uri": "https://localhost:8080/"
        },
        "id": "UgQGck5CJ6K0",
        "outputId": "dd816cb3-ffbb-4a97-eec2-b2179c3c0ecf"
      },
      "source": [
        "print(torch.__version__)"
      ],
      "execution_count": 2,
      "outputs": [
        {
          "output_type": "stream",
          "name": "stdout",
          "text": [
            "1.9.0+cu111\n"
          ]
        }
      ]
    },
    {
      "cell_type": "markdown",
      "metadata": {
        "id": "zFrxSuUOLxyR"
      },
      "source": [
        "# **Perpar the data**"
      ]
    },
    {
      "cell_type": "code",
      "metadata": {
        "id": "GkH2VLI7fB5m"
      },
      "source": [
        "inputs = torch.tensor([[3.1], [4.4], [5.5], [6.1], [6.9], [4.1], [9.7], [6.1], [7.9], [2.7], [7.2], [9.1], [5.3], [7.9], [5.6], [9.2]], dtype = torch.float32)\n",
        "targets = torch.tensor([[1.7], [2.1], [2.0], [1.9], [2.6], [1.3], [3.3], [2.6], [2.3], [1.1], [2.7], [3.5], [1.6], [2.9], [2.4], [2.9]], dtype = torch.float32)"
      ],
      "execution_count": 3,
      "outputs": []
    },
    {
      "cell_type": "code",
      "metadata": {
        "colab": {
          "base_uri": "https://localhost:8080/",
          "height": 283
        },
        "id": "Pe_BaW1RJvU4",
        "outputId": "4fc757ab-ebc7-418c-9fbb-b98f99baa6f8"
      },
      "source": [
        "plt.scatter(inputs, targets)"
      ],
      "execution_count": 4,
      "outputs": [
        {
          "output_type": "execute_result",
          "data": {
            "text/plain": [
              "<matplotlib.collections.PathCollection at 0x7f2cb229a210>"
            ]
          },
          "metadata": {},
          "execution_count": 4
        },
        {
          "output_type": "display_data",
          "data": {
            "image/png": "[encoded data removed]",
            "text/plain": [
              "<Figure size 432x288 with 1 Axes>"
            ]
          },
          "metadata": {
            "needs_background": "light"
          }
        }
      ]
    },
    {
      "cell_type": "markdown",
      "metadata": {
        "id": "MBIRRLPAMO35"
      },
      "source": [
        "# **Define the model**\n",
        "Class torch.nn.Lnear(input_feature, out_feature, bias)\n",
        "* input_feature : 輸入資料的維度大小\n",
        "* out_feature : 輸出資料的維度大小\n",
        "* bias : 預設為 True, 若設為 False, 將不學習 bais"
      ]
    },
    {
      "cell_type": "code",
      "metadata": {
        "colab": {
          "base_uri": "https://localhost:8080/"
        },
        "id": "pL1qbOVIJ4jy",
        "outputId": "8878e5e6-e721-48b6-b698-1a6338b6f7b7"
      },
      "source": [
        "model = nn.Linear(1, 1)\n",
        "# 會預先給予一個初始值\n",
        "print(model.weight)\n",
        "print(model.bias)"
      ],
      "execution_count": 5,
      "outputs": [
        {
          "output_type": "stream",
          "name": "stdout",
          "text": [
            "Parameter containing:\n",
            "tensor([[0.8017]], requires_grad=True)\n",
            "Parameter containing:\n",
            "tensor([0.2447], requires_grad=True)\n"
          ]
        }
      ]
    },
    {
      "cell_type": "markdown",
      "metadata": {
        "id": "ZfrH5TosOHf7"
      },
      "source": [
        "# **Define the Optimizer**"
      ]
    },
    {
      "cell_type": "code",
      "metadata": {
        "id": "cLmWT5bAOGzJ"
      },
      "source": [
        "optimizer = torch.optim.SGD(model.parameters(), lr = 0.001)"
      ],
      "execution_count": 6,
      "outputs": []
    },
    {
      "cell_type": "markdown",
      "metadata": {
        "id": "NwDYY7fcPo9_"
      },
      "source": [
        "# **Define the Loss Function**"
      ]
    },
    {
      "cell_type": "code",
      "metadata": {
        "id": "n-QGFPzfPyPn"
      },
      "source": [
        "critertion = nn.MSELoss()"
      ],
      "execution_count": 7,
      "outputs": []
    },
    {
      "cell_type": "markdown",
      "metadata": {
        "id": "27OXo1ZBP8mX"
      },
      "source": [
        "# **Training Model**"
      ]
    },
    {
      "cell_type": "code",
      "metadata": {
        "colab": {
          "base_uri": "https://localhost:8080/",
          "height": 281
        },
        "id": "Lyi-FmL0QDx2",
        "outputId": "d2ee3f5a-9d98-4e53-af6a-0262d92c6697"
      },
      "source": [
        "num_epochs = 100\n",
        "fig = plt.figure()\n",
        "loss_history = []\n",
        "\n",
        "for epoch in range(num_epochs):\n",
        "  outputs = model(inputs)\n",
        "  loss = critertion(outputs, targets)\n",
        "\n",
        "  # record vary of loss\n",
        "  # item() : recall python float\n",
        "  loss_history.append(loss.item())\n",
        "\n",
        "  # optimizer to zero ; Gradient to zero\n",
        "  optimizer.zero_grad()\n",
        "\n",
        "  # Backward Propagation\n",
        "  loss.backward()\n",
        "\n",
        "  # Gradient Descent\n",
        "  optimizer.step()\n",
        "\n",
        "  if (epoch + 1) % 5 == 0:\n",
        "    # model() : output predict (forward Propagation)\n",
        "    # dtach() : recall tensor of \"requires_grad = False\"\n",
        "    preds = model(inputs).detach()\n",
        "\n",
        "    # drawing\n",
        "    plt.scatter(inputs, targets)\n",
        "    plt.plot(inputs, preds, \"orange\")\n",
        "    plt.title(\"Epoch : {}/{}, Loss: {:.4f}\".format(epoch + 1, num_epochs, loss.item()))\n",
        "\n",
        "    clear_output(wait = True)\n",
        "    plt.pause(0.5)"
      ],
      "execution_count": 15,
      "outputs": [
        {
          "output_type": "display_data",
          "data": {
            "image/png": "[encoded data removed]",
            "text/plain": [
              "<Figure size 432x288 with 1 Axes>"
            ]
          },
          "metadata": {
            "needs_background": "light"
          }
        }
      ]
    },
    {
      "cell_type": "markdown",
      "metadata": {
        "id": "l4l2jvNxNdZS"
      },
      "source": [
        "# **Loss of change graph**"
      ]
    },
    {
      "cell_type": "code",
      "metadata": {
        "colab": {
          "base_uri": "https://localhost:8080/",
          "height": 283
        },
        "id": "hTepbaJQNlOb",
        "outputId": "8e6f7893-d0a7-4138-bc5e-e28d0faad7de"
      },
      "source": [
        "plt.plot(loss_history)"
      ],
      "execution_count": 16,
      "outputs": [
        {
          "output_type": "execute_result",
          "data": {
            "text/plain": [
              "[<matplotlib.lines.Line2D at 0x7f2cb1751510>]"
            ]
          },
          "metadata": {},
          "execution_count": 16
        },
        {
          "output_type": "display_data",
          "data": {
            "image/png": "[encoded data removed]",
            "text/plain": [
              "<Figure size 432x288 with 1 Axes>"
            ]
          },
          "metadata": {
            "needs_background": "light"
          }
        }
      ]
    }
  ]
}
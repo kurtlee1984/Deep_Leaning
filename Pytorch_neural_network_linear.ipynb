{
  "nbformat": 4,
  "nbformat_minor": 0,
  "metadata": {
    "colab": {
      "name": "Pytorch_neural_network_linear.ipynb",
      "provenance": [],
      "authorship_tag": "ABX9TyPPy4CO2jwGG5VLSOtwl4Yv",
      "include_colab_link": true
    },
    "kernelspec": {
      "name": "python3",
      "display_name": "Python 3"
    },
    "language_info": {
      "name": "python"
    }
  },
  "cells": [
    {
      "cell_type": "markdown",
      "metadata": {
        "id": "view-in-github",
        "colab_type": "text"
      },
      "source": [
        "<a href=\"https://colab.research.google.com/github/kurtlee1984/Deep_Leaning/blob/main/Pytorch_neural_network_linear.ipynb\" target=\"_parent\"><img src=\"https://colab.research.google.com/assets/colab-badge.svg\" alt=\"Open In Colab\"/></a>"
      ]
    },
    {
      "cell_type": "markdown",
      "metadata": {
        "id": "FVWC4eVRMd18"
      },
      "source": [
        "# **Import the toolkit**"
      ]
    },
    {
      "cell_type": "code",
      "metadata": {
        "id": "1L6e-TEjeFq4"
      },
      "source": [
        "# import toolkit\n",
        "import torch\n",
        "import torch.nn as nn\n",
        "import matplotlib.pyplot as plt\n",
        "from IPython.display import display, clear_output"
      ],
      "execution_count": 1,
      "outputs": []
    },
    {
      "cell_type": "code",
      "metadata": {
        "colab": {
          "base_uri": "https://localhost:8080/"
        },
        "id": "UgQGck5CJ6K0",
        "outputId": "f45cd80d-16c3-4e22-a974-47984b828576"
      },
      "source": [
        "print(torch.__version__)"
      ],
      "execution_count": 4,
      "outputs": [
        {
          "output_type": "stream",
          "name": "stdout",
          "text": [
            "1.9.0+cu111\n"
          ]
        }
      ]
    },
    {
      "cell_type": "markdown",
      "metadata": {
        "id": "zFrxSuUOLxyR"
      },
      "source": [
        "# **Perpar the data**"
      ]
    },
    {
      "cell_type": "code",
      "metadata": {
        "id": "GkH2VLI7fB5m"
      },
      "source": [
        "inputs = torch.tensor([[3.1], [4.4], [5.5], [6.1], [6.9], [4.1], [9.7], [6.1], [7.9], [2.7], [7.2], [9.1], [5.3], [7.9], [5.6], [9.2]], dtype = torch.float32)\n",
        "targets = torch.tensor([[1.7], [2.1], [2.0], [1.9], [2.6], [1.3], [3.3], [2.6], [2.3], [1.1], [2.7], [3.5], [1.6], [2.9], [2.4], [2.9]], dtype = torch.float32)"
      ],
      "execution_count": 6,
      "outputs": []
    },
    {
      "cell_type": "code",
      "metadata": {
        "colab": {
          "base_uri": "https://localhost:8080/",
          "height": 283
        },
        "id": "Pe_BaW1RJvU4",
        "outputId": "2f5fbaa6-8d3f-41aa-a0ff-018002b53d82"
      },
      "source": [
        "plt.scatter(inputs, targets)"
      ],
      "execution_count": 7,
      "outputs": [
        {
          "output_type": "execute_result",
          "data": {
            "text/plain": [
              "<matplotlib.collections.PathCollection at 0x7ffa3b61c4d0>"
            ]
          },
          "metadata": {},
          "execution_count": 7
        },
        {
          "output_type": "display_data",
          "data": {
            "image/png": "[encoded data removed]",
            "text/plain": [
              "<Figure size 432x288 with 1 Axes>"
            ]
          },
          "metadata": {
            "needs_background": "light"
          }
        }
      ]
    },
    {
      "cell_type": "markdown",
      "metadata": {
        "id": "MBIRRLPAMO35"
      },
      "source": [
        "# **Define the model**\n",
        "Class torch.nn.Lnear(input_feature, out_feature, bias)\n",
        "* input_feature : 輸入資料的維度大小\n",
        "* out_feature : 輸出資料的維度大小\n",
        "* bias : 預設為 True, 若設為 False, 將不學習 bais"
      ]
    },
    {
      "cell_type": "code",
      "metadata": {
        "colab": {
          "base_uri": "https://localhost:8080/"
        },
        "id": "pL1qbOVIJ4jy",
        "outputId": "d1e114e8-b0f1-4b7a-b669-6307298813ea"
      },
      "source": [
        "model = nn.Linear(1, 1)\n",
        "# 會預先給予一個初始值\n",
        "print(model.weight)\n",
        "print(model.bias)"
      ],
      "execution_count": 8,
      "outputs": [
        {
          "output_type": "stream",
          "name": "stdout",
          "text": [
            "Parameter containing:\n",
            "tensor([[-0.2448]], requires_grad=True)\n",
            "Parameter containing:\n",
            "tensor([0.7098], requires_grad=True)\n"
          ]
        }
      ]
    },
    {
      "cell_type": "markdown",
      "metadata": {
        "id": "ZfrH5TosOHf7"
      },
      "source": [
        "# **Define the optimizer**"
      ]
    },
    {
      "cell_type": "code",
      "metadata": {
        "id": "cLmWT5bAOGzJ"
      },
      "source": [
        ""
      ],
      "execution_count": null,
      "outputs": []
    }
  ]
}
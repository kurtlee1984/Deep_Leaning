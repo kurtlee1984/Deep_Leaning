{
  "nbformat": 4,
  "nbformat_minor": 0,
  "metadata": {
    "colab": {
      "name": "Transferlearning.ipynb",
      "provenance": [],
      "mount_file_id": "1JDO3LsAMVf91cQK0trEdzyeehhlxKEyv",
      "authorship_tag": "ABX9TyPfC36eSJ9YGZfhUCLFrnun",
      "include_colab_link": true
    },
    "kernelspec": {
      "name": "python3",
      "display_name": "Python 3"
    },
    "language_info": {
      "name": "python"
    }
  },
  "cells": [
    {
      "cell_type": "markdown",
      "metadata": {
        "id": "view-in-github",
        "colab_type": "text"
      },
      "source": [
        "<a href=\"https://colab.research.google.com/github/kurtlee1984/Deep_Leaning/blob/main/Transferlearning.ipynb\" target=\"_parent\"><img src=\"https://colab.research.google.com/assets/colab-badge.svg\" alt=\"Open In Colab\"/></a>"
      ]
    },
    {
      "cell_type": "code",
      "metadata": {
        "id": "xCnsJJSND5YN"
      },
      "source": [
        "import zipfile\n",
        "file_name = \"/content/drive/MyDrive/train.zip\"\n",
        "zipfile = zipfile.ZipFile(fn)\n",
        "zf.extractall()"
      ],
      "execution_count": null,
      "outputs": []
    }
  ]
}